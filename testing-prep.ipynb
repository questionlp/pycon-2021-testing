{
 "cells": [
  {
   "cell_type": "markdown",
   "metadata": {},
   "source": [
    "# Testing Tutorial: Preparation\n",
    "\n",
    "We will use Jupyter notebooks as our teaching environments.\n",
    "This notebook will help you prepare for the tutorial.\n",
    "\n",
    "In a new virtual environment, do\n",
    "\n",
    "```\n",
    "$ pip install pytest ipytest jupyterlab\n",
    "```\n",
    "\n",
    "(If you were in the previous tutorial, we are using a different pytest/Jupyter integration,\n",
    "after some issues with the previous one.)\n",
    "\n",
    "When this is done, launch Jupyter\n",
    "\n",
    "```\n",
    "$ jupyter lab\n",
    "```\n",
    "\n",
    "Click on the upload icon, and [upload](https://jupyterlab.readthedocs.io/en/stable/user/files.html#uploading-and-downloading) this notebook.\n",
    "(If you are looking at this notebook on GitHub, you will need to click on \"Raw\",\n",
    "and then use the \"Save Page\" functionality in your browser to save it locally first.)\n",
    "\n",
    "The next step will be to load the `ipytest` Jupyter extension:"
   ]
  },
  {
   "cell_type": "code",
   "execution_count": 1,
   "metadata": {},
   "outputs": [],
   "source": [
    "import ipytest\n",
    "ipytest.autoconfig()"
   ]
  },
  {
   "cell_type": "markdown",
   "metadata": {},
   "source": [
    "There should not be any output from this step. If an error occured saying \"module not found\", make sure the virtual environment has `ipytest` installed."
   ]
  },
  {
   "cell_type": "markdown",
   "metadata": {},
   "source": [
    "Now run simple test, that will check that your environment is properly configured."
   ]
  },
  {
   "cell_type": "code",
   "execution_count": 2,
   "metadata": {},
   "outputs": [
    {
     "name": "stdout",
     "output_type": "stream",
     "text": [
      "FF                                                                                           [100%]\n",
      "============================================= FAILURES =============================================\n",
      "________________________________________ test_something[1] _________________________________________\n",
      "\n",
      "value = 1\n",
      "\n",
      "    @pytest.mark.parametrize('value', [1, 2])\n",
      "    def test_something(value):\n",
      ">       assert value != value\n",
      "E       assert 1 != 1\n",
      "\n",
      "<ipython-input-2-5cd247d35d9e>:5: AssertionError\n",
      "________________________________________ test_something[2] _________________________________________\n",
      "\n",
      "value = 2\n",
      "\n",
      "    @pytest.mark.parametrize('value', [1, 2])\n",
      "    def test_something(value):\n",
      ">       assert value != value\n",
      "E       assert 2 != 2\n",
      "\n",
      "<ipython-input-2-5cd247d35d9e>:5: AssertionError\n",
      "===================================== short test summary info ======================================\n",
      "FAILED tmpbejg4xxz.py::test_something[1] - assert 1 != 1\n",
      "FAILED tmpbejg4xxz.py::test_something[2] - assert 2 != 2\n",
      "2 failed in 0.19s\n"
     ]
    }
   ],
   "source": [
    "%%run_pytest[clean]\n",
    "\n",
    "import pytest\n",
    "\n",
    "@pytest.mark.parametrize('value', [1, 2])\n",
    "def test_something(value):\n",
    "    assert value != value"
   ]
  },
  {
   "cell_type": "markdown",
   "metadata": {},
   "source": [
    "The output from the cell should look like:\n",
    "\n",
    "```\n",
    "FF                                                                          [100%]\n",
    "==================================== FAILURES =====================================\n",
    "________________________________ test_something[1] ________________________________\n",
    "\n",
    "value = 1\n",
    "\n",
    "    @pytest.mark.parametrize('value', [1, 2])\n",
    "    def test_something(value):\n",
    ">       assert value != value\n",
    "E       assert 1 != 1\n",
    "\n",
    "<ipython-input-25-36909bbf865f>:6: AssertionError\n",
    "________________________________ test_something[2] ________________________________\n",
    "\n",
    "value = 2\n",
    "\n",
    "    @pytest.mark.parametrize('value', [1, 2])\n",
    "    def test_something(value):\n",
    ">       assert value != value\n",
    "E       assert 2 != 2\n",
    "\n",
    "<ipython-input-25-36909bbf865f>:6: AssertionError\n",
    "============================= short test summary info =============================\n",
    "FAILED tmptxg8rvn8.py::test_something[1] - assert 1 != 1\n",
    "FAILED tmptxg8rvn8.py::test_something[2] - assert 2 != 2\n",
    "2 failed in 0.03s\n",
    "```"
   ]
  },
  {
   "cell_type": "markdown",
   "metadata": {},
   "source": [
    "Typical problems:\n",
    "\n",
    "* `ipytest` is not installed\n",
    "* `pytest` is not installed\n",
    "* You are running your Jupyter lab in the wrong virtual environment.\n",
    "\n",
    "The cell below calculates your virtual environment:"
   ]
  },
  {
   "cell_type": "code",
   "execution_count": 3,
   "metadata": {},
   "outputs": [
    {
     "data": {
      "text/plain": [
       "'Your virtual environment is /Users/lpham/Projects/PyCon/pycon-2021-testing/venv'"
      ]
     },
     "execution_count": 3,
     "metadata": {},
     "output_type": "execute_result"
    }
   ],
   "source": [
    "import pathlib, sys\n",
    "\n",
    "venv = pathlib.Path(sys.executable).parent.parent\n",
    "f\"Your virtual environment is {venv}\""
   ]
  },
  {
   "cell_type": "markdown",
   "metadata": {},
   "source": [
    "Use the following to verify which packages are installed.\n",
    "You should see `ipytest` and `pytest`."
   ]
  },
  {
   "cell_type": "code",
   "execution_count": 4,
   "metadata": {},
   "outputs": [
    {
     "name": "stdout",
     "output_type": "stream",
     "text": [
      "anyio==3.0.1\n",
      "appnope==0.1.2\n",
      "argon2-cffi==20.1.0\n",
      "async-generator==1.10\n",
      "attrs==21.2.0\n",
      "Babel==2.9.1\n",
      "backcall==0.2.0\n",
      "bleach==3.3.0\n",
      "certifi==2020.12.5\n",
      "cffi==1.14.5\n",
      "chardet==4.0.0\n",
      "decorator==5.0.7\n",
      "defusedxml==0.7.1\n",
      "entrypoints==0.3\n",
      "idna==2.10\n",
      "iniconfig==1.1.1\n",
      "ipykernel==5.5.4\n",
      "ipytest==0.9.1\n",
      "ipython==7.23.1\n",
      "ipython-genutils==0.2.0\n",
      "jedi==0.18.0\n",
      "Jinja2==2.11.3\n",
      "json5==0.9.5\n",
      "jsonschema==3.2.0\n",
      "jupyter-client==6.1.12\n",
      "jupyter-core==4.7.1\n",
      "jupyter-server==1.7.0\n",
      "jupyterlab==3.0.15\n",
      "jupyterlab-pygments==0.1.2\n",
      "jupyterlab-server==2.5.1\n",
      "MarkupSafe==1.1.1\n",
      "matplotlib-inline==0.1.2\n",
      "mistune==0.8.4\n",
      "nbclassic==0.2.8\n",
      "nbclient==0.5.3\n",
      "nbconvert==6.0.7\n",
      "nbformat==5.1.3\n",
      "nest-asyncio==1.5.1\n",
      "notebook==6.3.0\n",
      "packaging==20.9\n",
      "pandocfilters==1.4.3\n",
      "parso==0.8.2\n",
      "pexpect==4.8.0\n",
      "pickleshare==0.7.5\n",
      "pluggy==0.13.1\n",
      "prometheus-client==0.10.1\n",
      "prompt-toolkit==3.0.18\n",
      "ptyprocess==0.7.0\n",
      "py==1.10.0\n",
      "pycparser==2.20\n",
      "Pygments==2.9.0\n",
      "pyparsing==2.4.7\n",
      "pyrsistent==0.17.3\n",
      "pytest==6.2.4\n",
      "python-dateutil==2.8.1\n",
      "pytz==2021.1\n",
      "pyzmq==22.0.3\n",
      "requests==2.25.1\n",
      "Send2Trash==1.5.0\n",
      "six==1.16.0\n",
      "sniffio==1.2.0\n",
      "terminado==0.9.5\n",
      "testpath==0.4.4\n",
      "toml==0.10.2\n",
      "tornado==6.1\n",
      "traitlets==5.0.5\n",
      "urllib3==1.26.4\n",
      "wcwidth==0.2.5\n",
      "webencodings==0.5.1\n",
      "websocket-client==0.59.0\n",
      "Note: you may need to restart the kernel to use updated packages.\n"
     ]
    }
   ],
   "source": [
    "pip freeze"
   ]
  },
  {
   "cell_type": "code",
   "execution_count": null,
   "metadata": {},
   "outputs": [],
   "source": []
  }
 ],
 "metadata": {
  "kernelspec": {
   "display_name": "Python 3",
   "language": "python",
   "name": "python3"
  },
  "language_info": {
   "codemirror_mode": {
    "name": "ipython",
    "version": 3
   },
   "file_extension": ".py",
   "mimetype": "text/x-python",
   "name": "python",
   "nbconvert_exporter": "python",
   "pygments_lexer": "ipython3",
   "version": "3.8.9"
  }
 },
 "nbformat": 4,
 "nbformat_minor": 4
}
